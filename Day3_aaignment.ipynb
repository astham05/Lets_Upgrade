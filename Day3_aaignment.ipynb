{
 "cells": [
  {
   "cell_type": "code",
   "execution_count": 1,
   "metadata": {},
   "outputs": [
    {
     "name": "stdout",
     "output_type": "stream",
     "text": [
      "(-3-2j)\n"
     ]
    }
   ],
   "source": [
    "a= 2 + 4j\n",
    "b = 5 + 6j\n",
    "print(a-b)"
   ]
  },
  {
   "cell_type": "code",
   "execution_count": 2,
   "metadata": {},
   "outputs": [
    {
     "name": "stdout",
     "output_type": "stream",
     "text": [
      "64.0\n"
     ]
    }
   ],
   "source": [
    "c = 256\n",
    "print(c ** 1/4)"
   ]
  },
  {
   "cell_type": "code",
   "execution_count": 8,
   "metadata": {},
   "outputs": [
    {
     "name": "stdout",
     "output_type": "stream",
     "text": [
      "d after swap: 10\n",
      "e after swap: 5\n"
     ]
    }
   ],
   "source": [
    "d = 5\n",
    "e = 10\n",
    "\n",
    "\n",
    "temporary = d\n",
    "d = e\n",
    "e = temporary\n",
    "\n",
    "print('d after swap: {}'.format(d))\n",
    "print('e after swap: {}'.format(e))"
   ]
  },
  {
   "cell_type": "code",
   "execution_count": 9,
   "metadata": {},
   "outputs": [
    {
     "name": "stdout",
     "output_type": "stream",
     "text": [
      "f = 10\n",
      "g = 5\n"
     ]
    }
   ],
   "source": [
    "f = 5\n",
    "g = 10\n",
    "\n",
    "f, g = g, f\n",
    "print(\"f =\", f)\n",
    "print(\"g =\", g)"
   ]
  },
  {
   "cell_type": "code",
   "execution_count": 15,
   "metadata": {},
   "outputs": [
    {
     "name": "stdout",
     "output_type": "stream",
     "text": [
      "17.77777777777778\n",
      "290.92777777777775\n"
     ]
    }
   ],
   "source": [
    "#Fahrenheit to Celsius\n",
    "a = 64\n",
    "c = (a - 32) * 5/9\n",
    "\n",
    "#Fahrenheit to kelvin\n",
    "d = (a - 32)* 5/9 + 273.15\n",
    "\n",
    "print(c)\n",
    "print(d)"
   ]
  },
  {
   "cell_type": "code",
   "execution_count": 19,
   "metadata": {},
   "outputs": [
    {
     "name": "stdout",
     "output_type": "stream",
     "text": [
      "<class 'int'>\n",
      "<class 'float'>\n",
      "<class 'complex'>\n",
      "<class 'str'>\n",
      "<class 'list'>\n",
      "<class 'tuple'>\n",
      "<class 'dict'>\n"
     ]
    }
   ],
   "source": [
    "print(type(1234))\n",
    "print(type(55.50))\n",
    "print(type(6+4j))\n",
    "print(type(\"hello\"))\n",
    "print(type([1,2,3,4]))\n",
    "print(type((1,2,3,4))) \n",
    "print(type({1:\"one\", 2:\"two\", 3:\"three\"}))"
   ]
  },
  {
   "cell_type": "code",
   "execution_count": null,
   "metadata": {},
   "outputs": [],
   "source": []
  }
 ],
 "metadata": {
  "kernelspec": {
   "display_name": "Python 3",
   "language": "python",
   "name": "python3"
  },
  "language_info": {
   "codemirror_mode": {
    "name": "ipython",
    "version": 3
   },
   "file_extension": ".py",
   "mimetype": "text/x-python",
   "name": "python",
   "nbconvert_exporter": "python",
   "pygments_lexer": "ipython3",
   "version": "3.7.4"
  }
 },
 "nbformat": 4,
 "nbformat_minor": 2
}
